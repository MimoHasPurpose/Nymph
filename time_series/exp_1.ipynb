{
 "cells": [
  {
   "cell_type": "code",
   "execution_count": 3,
   "id": "2a8f0533-34ac-4ff5-8325-c5b43fdb4dc2",
   "metadata": {},
   "outputs": [
    {
     "name": "stdout",
     "output_type": "stream",
     "text": [
      " Volume in drive E is New Volume\n",
      " Volume Serial Number is 0C42-C604\n",
      "\n",
      " Directory of E:\\Github\\Nymph\\time_series\n",
      "\n",
      "02-07-2025  06:58    <DIR>          .\n",
      "02-07-2025  06:29    <DIR>          ..\n",
      "02-07-2025  06:30    <DIR>          .ipynb_checkpoints\n",
      "02-07-2025  06:58               859 exp_1.ipynb\n",
      "               1 File(s)            859 bytes\n",
      "               3 Dir(s)  60,858,839,040 bytes free\n"
     ]
    }
   ],
   "source": [
    "!dir"
   ]
  },
  {
   "cell_type": "markdown",
   "id": "998e476d-465f-4e4f-9612-aa3182d044de",
   "metadata": {},
   "source": []
  },
  {
   "cell_type": "code",
   "execution_count": null,
   "id": "b5767e91-4494-4648-b664-1042716cf6b3",
   "metadata": {},
   "outputs": [],
   "source": []
  }
 ],
 "metadata": {
  "kernelspec": {
   "display_name": "Python 3 (ipykernel)",
   "language": "python",
   "name": "python3"
  },
  "language_info": {
   "codemirror_mode": {
    "name": "ipython",
    "version": 3
   },
   "file_extension": ".py",
   "mimetype": "text/x-python",
   "name": "python",
   "nbconvert_exporter": "python",
   "pygments_lexer": "ipython3",
   "version": "3.12.3"
  }
 },
 "nbformat": 4,
 "nbformat_minor": 5
}
